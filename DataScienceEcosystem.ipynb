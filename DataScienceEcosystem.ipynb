{
 "cells": [
  {
   "cell_type": "markdown",
   "id": "0e0fd113-5452-44fb-a1ec-88b8e5a729c8",
   "metadata": {
    "tags": []
   },
   "source": [
    "# Data Science Tools and Ecosystem"
   ]
  },
  {
   "cell_type": "markdown",
   "id": "4db46c2b-e65d-47b3-9b48-b4810fc15cc5",
   "metadata": {},
   "source": [
    "In this notebook, Data Science Tools and Ecosystem are summarized"
   ]
  },
  {
   "cell_type": "markdown",
   "id": "b249ccff-1efe-4e40-9a70-3b5d49544c7b",
   "metadata": {
    "tags": []
   },
   "source": [
    "Some of the popular languages that Data Scientists use are:\n",
    "1. Python\n",
    "1. R\n",
    "1. C++\n",
    "1. Java"
   ]
  },
  {
   "cell_type": "markdown",
   "id": "06a441ee-cc36-44e2-aede-5039b39d2fb1",
   "metadata": {
    "tags": []
   },
   "source": [
    "Some of the commonly used libraries used by Data Scientists include:\n",
    "1. Tensor Flow\n",
    "1. Pandas\n",
    "1. Numpy\n",
    "1. Matplotlib"
   ]
  },
  {
   "cell_type": "markdown",
   "id": "40809cee-b7eb-404e-95c5-6477400a5047",
   "metadata": {
    "tags": []
   },
   "source": [
    "|Data Science Tools|\n",
    "|:---:|\n",
    "|Jupyter Notebook|\n",
    "|Spyder|\n",
    "|VS Code|"
   ]
  },
  {
   "cell_type": "markdown",
   "id": "26682fc1-13b7-46bc-b3f7-27b373820a35",
   "metadata": {
    "tags": []
   },
   "source": [
    "### Below are a few examples of evaluating arithmetic expressions in Python"
   ]
  },
  {
   "cell_type": "code",
   "execution_count": 11,
   "id": "cf3869d4-bd2f-4342-ae78-240419428ca2",
   "metadata": {
    "tags": []
   },
   "outputs": [
    {
     "data": {
      "text/plain": [
       "17"
      ]
     },
     "execution_count": 11,
     "metadata": {},
     "output_type": "execute_result"
    }
   ],
   "source": [
    "# This a simple arithmetic expression to mutiply then add integers\n",
    "(3*4)+5"
   ]
  },
  {
   "cell_type": "code",
   "execution_count": 12,
   "id": "aebbbc61-8986-40d5-8db9-53b472ac580a",
   "metadata": {
    "tags": []
   },
   "outputs": [
    {
     "data": {
      "text/plain": [
       "3.3333333333333335"
      ]
     },
     "execution_count": 12,
     "metadata": {},
     "output_type": "execute_result"
    }
   ],
   "source": [
    "# This will convert 200 minutes to hours by diving by 60\n",
    "200/60"
   ]
  },
  {
   "cell_type": "markdown",
   "id": "d67c1142-b9d1-448d-9fad-bfbf08de52ab",
   "metadata": {},
   "source": [
    "## Objectives"
   ]
  },
  {
   "cell_type": "markdown",
   "id": "2011d80b-aa01-4c2b-9267-85367f3fc490",
   "metadata": {},
   "source": [
    "- List popular languages for Data Science\n",
    "- Describe the Data Scientist’s tool kit which includes: Libraries & Packages, Data sets, Machine learning models, and Big Data tools \n",
    "- Demonstrate working knowledge of tools such as Jupyter notebooks and RStudio and utilize their various features \n",
    "- Create and manage source code for data science using Git repositories and GitHub"
   ]
  },
  {
   "cell_type": "markdown",
   "id": "e5fba71a-ee74-4a1f-bd0e-245ac167e34f",
   "metadata": {},
   "source": [
    "## Author"
   ]
  },
  {
   "cell_type": "markdown",
   "id": "83967d0e-17b8-4ffe-87d1-345ccc59d608",
   "metadata": {
    "tags": []
   },
   "source": [
    "Mariela Muñoz"
   ]
  }
 ],
 "metadata": {
  "kernelspec": {
   "display_name": "Python",
   "language": "python",
   "name": "conda-env-python-py"
  },
  "language_info": {
   "codemirror_mode": {
    "name": "ipython",
    "version": 3
   },
   "file_extension": ".py",
   "mimetype": "text/x-python",
   "name": "python",
   "nbconvert_exporter": "python",
   "pygments_lexer": "ipython3",
   "version": "3.7.12"
  }
 },
 "nbformat": 4,
 "nbformat_minor": 5
}
